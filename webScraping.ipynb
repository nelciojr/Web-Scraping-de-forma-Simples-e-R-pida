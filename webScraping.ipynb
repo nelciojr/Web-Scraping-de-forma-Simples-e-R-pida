{
  "nbformat": 4,
  "nbformat_minor": 0,
  "metadata": {
    "colab": {
      "provenance": [],
      "authorship_tag": "ABX9TyOzByOhZbBzwpXIkGXzowcZ"
    },
    "kernelspec": {
      "name": "python3",
      "display_name": "Python 3"
    },
    "language_info": {
      "name": "python"
    }
  },
  "cells": [
    {
      "cell_type": "markdown",
      "source": [
        " # Web Scraping de forma Simples e Rápida\n",
        "\n",
        "\n",
        "A extração, coleta e estruturação de dados em sites pode ser feita de um simples copiar e colar todo o código até extrair insights de importância para fins econômicos, financeiros e comerciais. \n",
        "\n",
        "Web Scraping torna esse processo autônomo, que é nosso propósito. Sendo uma maneira rápida e eficaz de coletar dados, que às vezes poderia ser impossível de acessar feito por uma pessoa.\n",
        "\n",
        "Existe muitas bibliotecas Python para Web Scraping, podemos classificar as requisições em síncrona e assíncrona.\n",
        "\n",
        "## Cenário\n",
        "Sabe-se que notícias impactam o mercado financeiro. Alguns investidores querem ter a opção de não operar durante uma notícia, ou um determinado período dessa notícia. Principalmente quando se usa robôs de investimento, essa opção é muito bem-vinda.\n",
        "\n",
        "Trataremos aqui de notícias pré-agendadas que tem hora, moeda ou par de moeda afetados, e a sua importância. No site https://br.investing.com/economic-calendar encontramos essa modalidade de notícias."
      ],
      "metadata": {
        "id": "rH8m8kfAobmO"
      }
    },
    {
      "cell_type": "code",
      "source": [
        "#Instalando bibliotecas\n",
        "!pip install httpx bs4 dataclasses"
      ],
      "metadata": {
        "colab": {
          "base_uri": "https://localhost:8080/"
        },
        "id": "rb37ZgOkoeMq",
        "outputId": "9c681115-ca14-4fd3-b363-55276e5e2a44"
      },
      "execution_count": 1,
      "outputs": [
        {
          "output_type": "stream",
          "name": "stdout",
          "text": [
            "Looking in indexes: https://pypi.org/simple, https://us-python.pkg.dev/colab-wheels/public/simple/\n",
            "Collecting httpx\n",
            "  Downloading httpx-0.23.1-py3-none-any.whl (84 kB)\n",
            "\u001b[K     |████████████████████████████████| 84 kB 329 kB/s \n",
            "\u001b[?25hRequirement already satisfied: bs4 in /usr/local/lib/python3.8/dist-packages (0.0.1)\n",
            "Collecting dataclasses\n",
            "  Downloading dataclasses-0.6-py3-none-any.whl (14 kB)\n",
            "Collecting sniffio\n",
            "  Downloading sniffio-1.3.0-py3-none-any.whl (10 kB)\n",
            "Collecting rfc3986[idna2008]<2,>=1.3\n",
            "  Downloading rfc3986-1.5.0-py2.py3-none-any.whl (31 kB)\n",
            "Requirement already satisfied: certifi in /usr/local/lib/python3.8/dist-packages (from httpx) (2022.9.24)\n",
            "Collecting httpcore<0.17.0,>=0.15.0\n",
            "  Downloading httpcore-0.16.2-py3-none-any.whl (68 kB)\n",
            "\u001b[K     |████████████████████████████████| 68 kB 2.5 MB/s \n",
            "\u001b[?25hCollecting anyio<5.0,>=3.0\n",
            "  Downloading anyio-3.6.2-py3-none-any.whl (80 kB)\n",
            "\u001b[K     |████████████████████████████████| 80 kB 4.3 MB/s \n",
            "\u001b[?25hCollecting h11<0.15,>=0.13\n",
            "  Downloading h11-0.14.0-py3-none-any.whl (58 kB)\n",
            "\u001b[K     |████████████████████████████████| 58 kB 2.6 MB/s \n",
            "\u001b[?25hRequirement already satisfied: idna>=2.8 in /usr/local/lib/python3.8/dist-packages (from anyio<5.0,>=3.0->httpcore<0.17.0,>=0.15.0->httpx) (2.10)\n",
            "Requirement already satisfied: beautifulsoup4 in /usr/local/lib/python3.8/dist-packages (from bs4) (4.6.3)\n",
            "Installing collected packages: sniffio, rfc3986, h11, anyio, httpcore, httpx, dataclasses\n",
            "Successfully installed anyio-3.6.2 dataclasses-0.6 h11-0.14.0 httpcore-0.16.2 httpx-0.23.1 rfc3986-1.5.0 sniffio-1.3.0\n"
          ]
        }
      ]
    },
    {
      "cell_type": "code",
      "source": [
        "#Importando\n",
        "import httpx\n",
        "import asyncio\n",
        "from dataclasses import dataclass, asdict\n",
        "from bs4 import BeautifulSoup"
      ],
      "metadata": {
        "id": "dRjPQxJ3oiKJ"
      },
      "execution_count": 2,
      "outputs": []
    },
    {
      "cell_type": "markdown",
      "source": [
        "## Optaremos por uma forma assíncrona\n",
        "\n",
        "Somente para fins didáticos optaremos para a forma assíncona com resultado em formado dict. "
      ],
      "metadata": {
        "id": "KHaQfhjYokEa"
      }
    },
    {
      "cell_type": "code",
      "source": [
        "@dataclass\n",
        "class Impacto:\n",
        "    impactoBullish: int\n",
        "    horarioArray: []\n",
        "    origemMoeda: str\n",
        "\n",
        "\n",
        "async with httpx.AsyncClient() as client:\n",
        "        \n",
        "    url = 'https://br.investing.com/economic-calendar/'\n",
        "    \n",
        "    response = await client.get(url)\n",
        "    \n",
        "    assert response.status_code == 200\n",
        "    \n",
        "    pagina = response.content\n",
        "    informacoes = BeautifulSoup(pagina, 'lxml')\n",
        "    tabela = informacoes.find('table', {'id': 'economicCalendarData'}).find('tbody').findAll('tr', {'class': 'js-event-item'})\n",
        "    \n",
        "    resultados = []\n",
        "    for linha in tabela:\n",
        "        novo_resultado = Impacto(\n",
        "            impactoBullish = int(str(linha.find('td', {'class': 'sentiment'}).get('data-img_key')).replace('bull', '')),\n",
        "            horarioArray = str(linha.get('data-event-datetime')).replace('/', '-')[-8:].split(':'),\n",
        "            origemMoeda = linha.find('td', {'class': 'left flagCur noWrap'}).text.strip()\n",
        "        )\n",
        "                \n",
        "        resultados.append(asdict(novo_resultado))\n",
        "\n",
        "print(resultados) "
      ],
      "metadata": {
        "colab": {
          "base_uri": "https://localhost:8080/"
        },
        "id": "ZJLfENQjok7B",
        "outputId": "317fdb98-e771-4945-c755-7a867d2de374"
      },
      "execution_count": 10,
      "outputs": [
        {
          "output_type": "stream",
          "name": "stdout",
          "text": [
            "[{'impactoBullish': 2, 'horarioArray': ['03', '30', '00'], 'origemMoeda': 'EUR'}, {'impactoBullish': 1, 'horarioArray': ['04', '00', '00'], 'origemMoeda': 'GBP'}, {'impactoBullish': 3, 'horarioArray': ['04', '00', '00'], 'origemMoeda': 'GBP'}, {'impactoBullish': 3, 'horarioArray': ['04', '00', '00'], 'origemMoeda': 'GBP'}, {'impactoBullish': 2, 'horarioArray': ['04', '00', '00'], 'origemMoeda': 'GBP'}, {'impactoBullish': 2, 'horarioArray': ['04', '00', '00'], 'origemMoeda': 'GBP'}, {'impactoBullish': 2, 'horarioArray': ['04', '00', '00'], 'origemMoeda': 'EUR'}, {'impactoBullish': 3, 'horarioArray': ['04', '00', '00'], 'origemMoeda': 'EUR'}, {'impactoBullish': 1, 'horarioArray': ['04', '00', '00'], 'origemMoeda': 'EUR'}, {'impactoBullish': 1, 'horarioArray': ['04', '00', '00'], 'origemMoeda': 'EUR'}, {'impactoBullish': 1, 'horarioArray': ['05', '00', '00'], 'origemMoeda': 'CHF'}, {'impactoBullish': 1, 'horarioArray': ['06', '00', '00'], 'origemMoeda': 'EUR'}, {'impactoBullish': 1, 'horarioArray': ['06', '00', '00'], 'origemMoeda': 'EUR'}, {'impactoBullish': 1, 'horarioArray': ['06', '25', '00'], 'origemMoeda': 'ZAR'}, {'impactoBullish': 1, 'horarioArray': ['06', '30', '00'], 'origemMoeda': 'ZAR'}, {'impactoBullish': 1, 'horarioArray': ['06', '30', '00'], 'origemMoeda': 'ZAR'}, {'impactoBullish': 1, 'horarioArray': ['06', '30', '00'], 'origemMoeda': 'ZAR'}, {'impactoBullish': 1, 'horarioArray': ['06', '40', '00'], 'origemMoeda': 'EUR'}, {'impactoBullish': 1, 'horarioArray': ['07', '00', '00'], 'origemMoeda': 'GBP'}, {'impactoBullish': 2, 'horarioArray': ['07', '00', '00'], 'origemMoeda': 'EUR'}, {'impactoBullish': 3, 'horarioArray': ['07', '00', '00'], 'origemMoeda': 'EUR'}, {'impactoBullish': 2, 'horarioArray': ['07', '00', '00'], 'origemMoeda': 'EUR'}, {'impactoBullish': 1, 'horarioArray': ['07', '10', '00'], 'origemMoeda': 'EUR'}, {'impactoBullish': 1, 'horarioArray': ['07', '10', '00'], 'origemMoeda': 'EUR'}, {'impactoBullish': 2, 'horarioArray': ['07', '30', '00'], 'origemMoeda': 'GBP'}, {'impactoBullish': 1, 'horarioArray': ['07', '30', '00'], 'origemMoeda': 'GBP'}, {'impactoBullish': 3, 'horarioArray': ['08', '00', '00'], 'origemMoeda': 'GBP'}, {'impactoBullish': 1, 'horarioArray': ['08', '00', '00'], 'origemMoeda': 'USD'}, {'impactoBullish': 3, 'horarioArray': ['08', '00', '00'], 'origemMoeda': 'BRL'}, {'impactoBullish': 2, 'horarioArray': ['09', '00', '00'], 'origemMoeda': 'USD'}, {'impactoBullish': 1, 'horarioArray': ['09', '00', '00'], 'origemMoeda': 'EUR'}, {'impactoBullish': 1, 'horarioArray': ['09', '00', '00'], 'origemMoeda': 'BRL'}, {'impactoBullish': 1, 'horarioArray': ['09', '00', '00'], 'origemMoeda': 'BRL'}, {'impactoBullish': 3, 'horarioArray': ['10', '30', '00'], 'origemMoeda': 'USD'}, {'impactoBullish': 2, 'horarioArray': ['10', '30', '00'], 'origemMoeda': 'USD'}, {'impactoBullish': 1, 'horarioArray': ['10', '30', '00'], 'origemMoeda': 'USD'}, {'impactoBullish': 3, 'horarioArray': ['10', '30', '00'], 'origemMoeda': 'USD'}, {'impactoBullish': 3, 'horarioArray': ['10', '30', '00'], 'origemMoeda': 'USD'}, {'impactoBullish': 1, 'horarioArray': ['10', '30', '00'], 'origemMoeda': 'USD'}, {'impactoBullish': 1, 'horarioArray': ['10', '30', '00'], 'origemMoeda': 'USD'}, {'impactoBullish': 1, 'horarioArray': ['10', '30', '00'], 'origemMoeda': 'USD'}, {'impactoBullish': 1, 'horarioArray': ['10', '30', '00'], 'origemMoeda': 'USD'}, {'impactoBullish': 1, 'horarioArray': ['10', '55', '00'], 'origemMoeda': 'USD'}, {'impactoBullish': 1, 'horarioArray': ['12', '00', '00'], 'origemMoeda': 'USD'}, {'impactoBullish': 1, 'horarioArray': ['13', '00', '00'], 'origemMoeda': 'USD'}, {'impactoBullish': 1, 'horarioArray': ['15', '00', '00'], 'origemMoeda': 'USD'}, {'impactoBullish': 2, 'horarioArray': ['18', '30', '00'], 'origemMoeda': 'USD'}, {'impactoBullish': 2, 'horarioArray': ['18', '45', '00'], 'origemMoeda': 'NZD'}, {'impactoBullish': 2, 'horarioArray': ['18', '45', '00'], 'origemMoeda': 'NZD'}, {'impactoBullish': 1, 'horarioArray': ['18', '45', '00'], 'origemMoeda': 'NZD'}, {'impactoBullish': 2, 'horarioArray': ['19', '30', '00'], 'origemMoeda': 'AUD'}, {'impactoBullish': 2, 'horarioArray': ['20', '30', '00'], 'origemMoeda': 'AUD'}, {'impactoBullish': 1, 'horarioArray': ['20', '50', '00'], 'origemMoeda': 'JPY'}, {'impactoBullish': 1, 'horarioArray': ['20', '50', '00'], 'origemMoeda': 'JPY'}, {'impactoBullish': 2, 'horarioArray': ['20', '50', '00'], 'origemMoeda': 'JPY'}, {'impactoBullish': 1, 'horarioArray': ['20', '50', '00'], 'origemMoeda': 'JPY'}, {'impactoBullish': 2, 'horarioArray': ['20', '50', '00'], 'origemMoeda': 'JPY'}, {'impactoBullish': 3, 'horarioArray': ['20', '50', '00'], 'origemMoeda': 'JPY'}, {'impactoBullish': 1, 'horarioArray': ['20', '50', '00'], 'origemMoeda': 'JPY'}, {'impactoBullish': 3, 'horarioArray': ['20', '50', '00'], 'origemMoeda': 'JPY'}, {'impactoBullish': 1, 'horarioArray': ['20', '50', '00'], 'origemMoeda': 'JPY'}, {'impactoBullish': 1, 'horarioArray': ['20', '50', '00'], 'origemMoeda': 'JPY'}, {'impactoBullish': 1, 'horarioArray': ['20', '50', '00'], 'origemMoeda': 'JPY'}, {'impactoBullish': 1, 'horarioArray': ['20', '50', '00'], 'origemMoeda': 'JPY'}, {'impactoBullish': 1, 'horarioArray': ['21', '00', '00'], 'origemMoeda': 'NZD'}, {'impactoBullish': 1, 'horarioArray': ['21', '00', '00'], 'origemMoeda': 'NZD'}, {'impactoBullish': 1, 'horarioArray': ['21', '00', '00'], 'origemMoeda': 'NZD'}, {'impactoBullish': 1, 'horarioArray': ['23', '30', '00'], 'origemMoeda': 'SGD'}]\n"
          ]
        }
      ]
    },
    {
      "cell_type": "code",
      "source": [
        "import pandas as pd"
      ],
      "metadata": {
        "id": "gwyyQWD-pBYq"
      },
      "execution_count": 8,
      "outputs": []
    },
    {
      "cell_type": "code",
      "source": [
        "pd.DataFrame.from_dict(resultados)"
      ],
      "metadata": {
        "colab": {
          "base_uri": "https://localhost:8080/",
          "height": 424
        },
        "id": "Wm77uvcGpGDJ",
        "outputId": "d59618e6-3923-4a45-badf-ce5dd0c37920"
      },
      "execution_count": 9,
      "outputs": [
        {
          "output_type": "execute_result",
          "data": {
            "text/plain": [
              "    impactoBullish  horarioArray origemMoeda\n",
              "0                2  [03, 30, 00]         EUR\n",
              "1                1  [04, 00, 00]         GBP\n",
              "2                3  [04, 00, 00]         GBP\n",
              "3                3  [04, 00, 00]         GBP\n",
              "4                2  [04, 00, 00]         GBP\n",
              "..             ...           ...         ...\n",
              "63               1  [20, 50, 00]         JPY\n",
              "64               1  [21, 00, 00]         NZD\n",
              "65               1  [21, 00, 00]         NZD\n",
              "66               1  [21, 00, 00]         NZD\n",
              "67               1  [23, 30, 00]         SGD\n",
              "\n",
              "[68 rows x 3 columns]"
            ],
            "text/html": [
              "\n",
              "  <div id=\"df-b374759a-e364-45af-9549-ea17e961365a\">\n",
              "    <div class=\"colab-df-container\">\n",
              "      <div>\n",
              "<style scoped>\n",
              "    .dataframe tbody tr th:only-of-type {\n",
              "        vertical-align: middle;\n",
              "    }\n",
              "\n",
              "    .dataframe tbody tr th {\n",
              "        vertical-align: top;\n",
              "    }\n",
              "\n",
              "    .dataframe thead th {\n",
              "        text-align: right;\n",
              "    }\n",
              "</style>\n",
              "<table border=\"1\" class=\"dataframe\">\n",
              "  <thead>\n",
              "    <tr style=\"text-align: right;\">\n",
              "      <th></th>\n",
              "      <th>impactoBullish</th>\n",
              "      <th>horarioArray</th>\n",
              "      <th>origemMoeda</th>\n",
              "    </tr>\n",
              "  </thead>\n",
              "  <tbody>\n",
              "    <tr>\n",
              "      <th>0</th>\n",
              "      <td>2</td>\n",
              "      <td>[03, 30, 00]</td>\n",
              "      <td>EUR</td>\n",
              "    </tr>\n",
              "    <tr>\n",
              "      <th>1</th>\n",
              "      <td>1</td>\n",
              "      <td>[04, 00, 00]</td>\n",
              "      <td>GBP</td>\n",
              "    </tr>\n",
              "    <tr>\n",
              "      <th>2</th>\n",
              "      <td>3</td>\n",
              "      <td>[04, 00, 00]</td>\n",
              "      <td>GBP</td>\n",
              "    </tr>\n",
              "    <tr>\n",
              "      <th>3</th>\n",
              "      <td>3</td>\n",
              "      <td>[04, 00, 00]</td>\n",
              "      <td>GBP</td>\n",
              "    </tr>\n",
              "    <tr>\n",
              "      <th>4</th>\n",
              "      <td>2</td>\n",
              "      <td>[04, 00, 00]</td>\n",
              "      <td>GBP</td>\n",
              "    </tr>\n",
              "    <tr>\n",
              "      <th>...</th>\n",
              "      <td>...</td>\n",
              "      <td>...</td>\n",
              "      <td>...</td>\n",
              "    </tr>\n",
              "    <tr>\n",
              "      <th>63</th>\n",
              "      <td>1</td>\n",
              "      <td>[20, 50, 00]</td>\n",
              "      <td>JPY</td>\n",
              "    </tr>\n",
              "    <tr>\n",
              "      <th>64</th>\n",
              "      <td>1</td>\n",
              "      <td>[21, 00, 00]</td>\n",
              "      <td>NZD</td>\n",
              "    </tr>\n",
              "    <tr>\n",
              "      <th>65</th>\n",
              "      <td>1</td>\n",
              "      <td>[21, 00, 00]</td>\n",
              "      <td>NZD</td>\n",
              "    </tr>\n",
              "    <tr>\n",
              "      <th>66</th>\n",
              "      <td>1</td>\n",
              "      <td>[21, 00, 00]</td>\n",
              "      <td>NZD</td>\n",
              "    </tr>\n",
              "    <tr>\n",
              "      <th>67</th>\n",
              "      <td>1</td>\n",
              "      <td>[23, 30, 00]</td>\n",
              "      <td>SGD</td>\n",
              "    </tr>\n",
              "  </tbody>\n",
              "</table>\n",
              "<p>68 rows × 3 columns</p>\n",
              "</div>\n",
              "      <button class=\"colab-df-convert\" onclick=\"convertToInteractive('df-b374759a-e364-45af-9549-ea17e961365a')\"\n",
              "              title=\"Convert this dataframe to an interactive table.\"\n",
              "              style=\"display:none;\">\n",
              "        \n",
              "  <svg xmlns=\"http://www.w3.org/2000/svg\" height=\"24px\"viewBox=\"0 0 24 24\"\n",
              "       width=\"24px\">\n",
              "    <path d=\"M0 0h24v24H0V0z\" fill=\"none\"/>\n",
              "    <path d=\"M18.56 5.44l.94 2.06.94-2.06 2.06-.94-2.06-.94-.94-2.06-.94 2.06-2.06.94zm-11 1L8.5 8.5l.94-2.06 2.06-.94-2.06-.94L8.5 2.5l-.94 2.06-2.06.94zm10 10l.94 2.06.94-2.06 2.06-.94-2.06-.94-.94-2.06-.94 2.06-2.06.94z\"/><path d=\"M17.41 7.96l-1.37-1.37c-.4-.4-.92-.59-1.43-.59-.52 0-1.04.2-1.43.59L10.3 9.45l-7.72 7.72c-.78.78-.78 2.05 0 2.83L4 21.41c.39.39.9.59 1.41.59.51 0 1.02-.2 1.41-.59l7.78-7.78 2.81-2.81c.8-.78.8-2.07 0-2.86zM5.41 20L4 18.59l7.72-7.72 1.47 1.35L5.41 20z\"/>\n",
              "  </svg>\n",
              "      </button>\n",
              "      \n",
              "  <style>\n",
              "    .colab-df-container {\n",
              "      display:flex;\n",
              "      flex-wrap:wrap;\n",
              "      gap: 12px;\n",
              "    }\n",
              "\n",
              "    .colab-df-convert {\n",
              "      background-color: #E8F0FE;\n",
              "      border: none;\n",
              "      border-radius: 50%;\n",
              "      cursor: pointer;\n",
              "      display: none;\n",
              "      fill: #1967D2;\n",
              "      height: 32px;\n",
              "      padding: 0 0 0 0;\n",
              "      width: 32px;\n",
              "    }\n",
              "\n",
              "    .colab-df-convert:hover {\n",
              "      background-color: #E2EBFA;\n",
              "      box-shadow: 0px 1px 2px rgba(60, 64, 67, 0.3), 0px 1px 3px 1px rgba(60, 64, 67, 0.15);\n",
              "      fill: #174EA6;\n",
              "    }\n",
              "\n",
              "    [theme=dark] .colab-df-convert {\n",
              "      background-color: #3B4455;\n",
              "      fill: #D2E3FC;\n",
              "    }\n",
              "\n",
              "    [theme=dark] .colab-df-convert:hover {\n",
              "      background-color: #434B5C;\n",
              "      box-shadow: 0px 1px 3px 1px rgba(0, 0, 0, 0.15);\n",
              "      filter: drop-shadow(0px 1px 2px rgba(0, 0, 0, 0.3));\n",
              "      fill: #FFFFFF;\n",
              "    }\n",
              "  </style>\n",
              "\n",
              "      <script>\n",
              "        const buttonEl =\n",
              "          document.querySelector('#df-b374759a-e364-45af-9549-ea17e961365a button.colab-df-convert');\n",
              "        buttonEl.style.display =\n",
              "          google.colab.kernel.accessAllowed ? 'block' : 'none';\n",
              "\n",
              "        async function convertToInteractive(key) {\n",
              "          const element = document.querySelector('#df-b374759a-e364-45af-9549-ea17e961365a');\n",
              "          const dataTable =\n",
              "            await google.colab.kernel.invokeFunction('convertToInteractive',\n",
              "                                                     [key], {});\n",
              "          if (!dataTable) return;\n",
              "\n",
              "          const docLinkHtml = 'Like what you see? Visit the ' +\n",
              "            '<a target=\"_blank\" href=https://colab.research.google.com/notebooks/data_table.ipynb>data table notebook</a>'\n",
              "            + ' to learn more about interactive tables.';\n",
              "          element.innerHTML = '';\n",
              "          dataTable['output_type'] = 'display_data';\n",
              "          await google.colab.output.renderOutput(dataTable, element);\n",
              "          const docLink = document.createElement('div');\n",
              "          docLink.innerHTML = docLinkHtml;\n",
              "          element.appendChild(docLink);\n",
              "        }\n",
              "      </script>\n",
              "    </div>\n",
              "  </div>\n",
              "  "
            ]
          },
          "metadata": {},
          "execution_count": 9
        }
      ]
    },
    {
      "cell_type": "markdown",
      "source": [
        "##Conclusão\n",
        "Podemos observar que o resultado é satisfatório, ao implementá-lo no código de um robô de forma simples e rápida como desejado.\n",
        "\n",
        "A forma assíncrona ainda nos permite enviar várias solicitações, se for necessário, em páginas diferentes do site ao mesmo tempo, enquanto uma espera a resposta as outras já estão em solicitação, isso agiliza a consulta e extração de dados.\n",
        "\n",
        "E com o parser 'lxml' nos dá uma rapidez maior ainda. No nosso exemplo foi uma simples consulta a uma tabela de uma única página. Mas isso poderia ser uma consulta a níveis exponenciais.\n",
        "\n",
        "Outro ponto importante a salientar, podemos usar proxy nas consultas, no get do httpx. Qual também pode ser obtido em sites de proxy da mesma forma que foi do exemplo. Se torna um ciclo de uso do Web Scraping. Uma ótima ferramenta para os profissionais de dados."
      ],
      "metadata": {
        "id": "J1ZpVO42on6g"
      }
    }
  ]
}